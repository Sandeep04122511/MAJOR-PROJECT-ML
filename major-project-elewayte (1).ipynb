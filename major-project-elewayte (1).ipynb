{
  "nbformat": 4,
  "nbformat_minor": 0,
  "metadata": {
    "colab": {
      "provenance": [],
      "gpuType": "T4"
    },
    "kernelspec": {
      "name": "python3",
      "display_name": "Python 3"
    },
    "language_info": {
      "name": "python"
    },
    "accelerator": "GPU"
  },
  "cells": [
    {
      "cell_type": "code",
      "source": [
        "#importing required libraries\n",
        "import matplotlib.pyplot as plt\n",
        "import pandas as pd\n",
        "from sklearn.model_selection import train_test_split\n",
        "from sklearn.preprocessing import StandardScaler, LabelEncoder\n",
        "from sklearn.metrics import mean_squared_error, r2_score, accuracy_score, confusion_matrix, classification_report\n",
        "from sklearn.linear_model import LogisticRegression\n",
        "from sklearn.ensemble import RandomForestClassifier\n",
        "from sklearn.svm import LinearSVC"
      ],
      "metadata": {
        "id": "7NZk8i7nW4oM"
      },
      "execution_count": 13,
      "outputs": []
    },
    {
      "cell_type": "code",
      "source": [
        "#Data Cleaning\n",
        "df = pd.read_csv(\"/content/drive/MyDrive/CVD_cleaned.csv\")\n",
        "df.isnull().sum()"
      ],
      "metadata": {
        "colab": {
          "base_uri": "https://localhost:8080/",
          "height": 680
        },
        "id": "S1FyJAjFEr2B",
        "outputId": "65d8b147-a7a2-47d4-96cd-078a8b49a035"
      },
      "execution_count": 14,
      "outputs": [
        {
          "output_type": "execute_result",
          "data": {
            "text/plain": [
              "General_Health                  0\n",
              "Checkup                         0\n",
              "Exercise                        0\n",
              "Heart_Disease                   0\n",
              "Skin_Cancer                     0\n",
              "Other_Cancer                    0\n",
              "Depression                      0\n",
              "Diabetes                        0\n",
              "Arthritis                       0\n",
              "Sex                             0\n",
              "Age_Category                    0\n",
              "Height_(cm)                     0\n",
              "Weight_(kg)                     0\n",
              "BMI                             0\n",
              "Smoking_History                 0\n",
              "Alcohol_Consumption             0\n",
              "Fruit_Consumption               0\n",
              "Green_Vegetables_Consumption    0\n",
              "FriedPotato_Consumption         0\n",
              "dtype: int64"
            ],
            "text/html": [
              "<div>\n",
              "<style scoped>\n",
              "    .dataframe tbody tr th:only-of-type {\n",
              "        vertical-align: middle;\n",
              "    }\n",
              "\n",
              "    .dataframe tbody tr th {\n",
              "        vertical-align: top;\n",
              "    }\n",
              "\n",
              "    .dataframe thead th {\n",
              "        text-align: right;\n",
              "    }\n",
              "</style>\n",
              "<table border=\"1\" class=\"dataframe\">\n",
              "  <thead>\n",
              "    <tr style=\"text-align: right;\">\n",
              "      <th></th>\n",
              "      <th>0</th>\n",
              "    </tr>\n",
              "  </thead>\n",
              "  <tbody>\n",
              "    <tr>\n",
              "      <th>General_Health</th>\n",
              "      <td>0</td>\n",
              "    </tr>\n",
              "    <tr>\n",
              "      <th>Checkup</th>\n",
              "      <td>0</td>\n",
              "    </tr>\n",
              "    <tr>\n",
              "      <th>Exercise</th>\n",
              "      <td>0</td>\n",
              "    </tr>\n",
              "    <tr>\n",
              "      <th>Heart_Disease</th>\n",
              "      <td>0</td>\n",
              "    </tr>\n",
              "    <tr>\n",
              "      <th>Skin_Cancer</th>\n",
              "      <td>0</td>\n",
              "    </tr>\n",
              "    <tr>\n",
              "      <th>Other_Cancer</th>\n",
              "      <td>0</td>\n",
              "    </tr>\n",
              "    <tr>\n",
              "      <th>Depression</th>\n",
              "      <td>0</td>\n",
              "    </tr>\n",
              "    <tr>\n",
              "      <th>Diabetes</th>\n",
              "      <td>0</td>\n",
              "    </tr>\n",
              "    <tr>\n",
              "      <th>Arthritis</th>\n",
              "      <td>0</td>\n",
              "    </tr>\n",
              "    <tr>\n",
              "      <th>Sex</th>\n",
              "      <td>0</td>\n",
              "    </tr>\n",
              "    <tr>\n",
              "      <th>Age_Category</th>\n",
              "      <td>0</td>\n",
              "    </tr>\n",
              "    <tr>\n",
              "      <th>Height_(cm)</th>\n",
              "      <td>0</td>\n",
              "    </tr>\n",
              "    <tr>\n",
              "      <th>Weight_(kg)</th>\n",
              "      <td>0</td>\n",
              "    </tr>\n",
              "    <tr>\n",
              "      <th>BMI</th>\n",
              "      <td>0</td>\n",
              "    </tr>\n",
              "    <tr>\n",
              "      <th>Smoking_History</th>\n",
              "      <td>0</td>\n",
              "    </tr>\n",
              "    <tr>\n",
              "      <th>Alcohol_Consumption</th>\n",
              "      <td>0</td>\n",
              "    </tr>\n",
              "    <tr>\n",
              "      <th>Fruit_Consumption</th>\n",
              "      <td>0</td>\n",
              "    </tr>\n",
              "    <tr>\n",
              "      <th>Green_Vegetables_Consumption</th>\n",
              "      <td>0</td>\n",
              "    </tr>\n",
              "    <tr>\n",
              "      <th>FriedPotato_Consumption</th>\n",
              "      <td>0</td>\n",
              "    </tr>\n",
              "  </tbody>\n",
              "</table>\n",
              "</div><br><label><b>dtype:</b> int64</label>"
            ]
          },
          "metadata": {},
          "execution_count": 14
        }
      ]
    },
    {
      "cell_type": "markdown",
      "source": [
        "<h1>Data Pre-processing</h1>"
      ],
      "metadata": {
        "id": "VyeEh1y2E3ka"
      }
    },
    {
      "cell_type": "code",
      "source": [
        "print(\"Handling the ordinal data: ['Age_Category', 'BMI', 'Diabetes', 'General Health', 'Checkup'] \")\n",
        "print(\"\\nAge Category:\")\n",
        "lst=[]\n",
        "for i in range(len(df[\"Age_Category\"])):\n",
        "    if df.loc[i,\"Age_Category\"] in lst:\n",
        "        continue\n",
        "    else:\n",
        "        lst.append(df.loc[i,\"Age_Category\"])\n",
        "print(\"Age categories found:\\n\", lst)\n",
        "\n",
        "merge={'80+':6, '70-74':5,'75-79':5,'60-64':4,'65-69':4,'50-54':3,'55-59':3,'40-44':2,'45-49':2,'30-34':1,'35-39':1,'18-24':0,'25-29':0}\n",
        "df['Age_Category']=df['Age_Category'].map(merge)\n",
        "print(\"Categorized age as: [18-29]=0, [30-39]=1, [40-49]=2, [50-59]=3, [60-69]=4, [70-79]=5, [80+]=6\")\n",
        "\n",
        "print(\"\\nBMI:\")\n",
        "for i in range(len(df[\"BMI\"])):\n",
        "  if df.loc[i,\"BMI\"] < 18.5: df.loc[i,\"BMI\"]= 0\n",
        "  elif df.loc[i, \"BMI\"] >= 18.5 and df.loc[i,\"BMI\"] < 24.9: df.loc[i,\"BMI\"]= 1\n",
        "  elif df.loc[i,\"BMI\"] >=25 and df.loc[i,\"BMI\"] < 29.9: df.loc[i,\"BMI\"] = 2\n",
        "  elif df.loc[i,\"BMI\"] >=30 and df.loc[i,\"BMI\"] <34.9: df.loc[i,\"BMI\"]=3\n",
        "  else : df.loc[i,\"BMI\"]=4\n",
        "print(\"Categorized the BMI as: <18.5(Under-Weight)=0, 18.5-24.9(Normal)=1, 25-29.9(Over-Weight)=2, 30-34.9(Obese)=3, >35(Extremely Obese)=4\")\n",
        "\n",
        "print(\"\\nDiabetes:\")\n",
        "merge0={\"No\":0, \"No, pre-diabetes or borderline diabetes\":0, \"Yes, but female told only during pregnancy\":0, \"Yes\":1}\n",
        "df['Diabetes']=df['Diabetes'].map(merge0)\n",
        "print(\"Categorized the Diabetes as: ['No', 'No, pre-diabetes or borderline diabetes', 'Yes, but female told only during pregnancy']=0, Yes=3\")\n",
        "\n",
        "print(\"\\nGeneral Health\")\n",
        "merge1={\"Poor\":0, \"Fair\":1, \"Good\":2, \"Very Good\":3, \"Excellent\":4}\n",
        "df[\"General_Health\"]=df[\"General_Health\"].map(merge1)\n",
        "print(\"Categorized General Health as: Poor:0, Fair:1, Good:2, Very Good:3, Excellent:4\")\n",
        "\n",
        "print(\"\\nCheckup\")\n",
        "lst1=[]\n",
        "for i in range(len(df[\"Checkup\"])):\n",
        "    if df.loc[i,\"Checkup\"] in lst1: continue\n",
        "    else: lst1.append(df.loc[i,\"Checkup\"])\n",
        "print(\"Checkup categories found:\\n\",lst1)\n",
        "merge2={\"Never\":0, \"5 or more years ago\":0, \"Within the past 5 years\":0, \"Within the past 2 years\":1, \"Within the past year\":1}\n",
        "df[\"Checkup\"]=df[\"Checkup\"].map(merge2)\n",
        "print(\"Categorized Checkup as: [Never', '5 or more years ago', 'Within the past 5 years']=0 ['Within the past 2 years', 'Within the past year']=1\")\n",
        "\n",
        "#Handling Binomial Data\n",
        "le=LabelEncoder()\n",
        "df[\"Sex\"]=le.fit_transform(df[\"Sex\"])\n",
        "df[\"Smoking_History\"]=le.fit_transform(df[\"Smoking_History\"])\n",
        "df[\"Exercise\"]=le.fit_transform(df[\"Exercise\"])\n",
        "df[\"Depression\"]=le.fit_transform(df[\"Depression\"])\n",
        "df[\"Heart_Disease\"]=le.fit_transform(df[\"Heart_Disease\"])\n",
        "df[\"Skin_Cancer\"]=le.fit_transform(df[\"Skin_Cancer\"])\n",
        "df[\"Other_Cancer\"]=le.fit_transform(df[\"Other_Cancer\"])\n",
        "df[\"Arthritis\"]=le.fit_transform(df[\"Arthritis\"])\n",
        "\n",
        "#Standardizing the Numerical Data\n",
        "sc=StandardScaler()\n",
        "col=['Alcohol_Consumption','Fruit_Consumption', 'Green_Vegetables_Consumption', 'FriedPotato_Consumption', 'Height_(cm)', 'Weight_(kg)']\n",
        "for i in col:\n",
        "    df[i]=sc.fit_transform(df[[i]])\n",
        "\n",
        "print(col,\"\\nScaled down above columns using StandardScaler\")"
      ],
      "metadata": {
        "colab": {
          "base_uri": "https://localhost:8080/"
        },
        "id": "4y3fnaGvEhH5",
        "outputId": "2a95ac1e-e715-48c1-9943-a094e81db646"
      },
      "execution_count": 15,
      "outputs": [
        {
          "output_type": "stream",
          "name": "stdout",
          "text": [
            "Handling the ordinal data: ['Age_Category', 'BMI', 'Diabetes', 'General Health', 'Checkup'] \n",
            "\n",
            "Age Category:\n",
            "Age categories found:\n",
            " ['70-74', '60-64', '75-79', '80+', '65-69', '50-54', '45-49', '18-24', '30-34', '55-59', '35-39', '40-44', '25-29']\n",
            "Categorized age as: [18-29]=0, [30-39]=1, [40-49]=2, [50-59]=3, [60-69]=4, [70-79]=5, [80+]=6\n",
            "\n",
            "BMI:\n",
            "Categorized the BMI as: <18.5(Under-Weight)=0, 18.5-24.9(Normal)=1, 25-29.9(Over-Weight)=2, 30-34.9(Obese)=3, >35(Extremely Obese)=4\n",
            "\n",
            "Diabetes:\n",
            "Categorized the Diabetes as: ['No', 'No, pre-diabetes or borderline diabetes', 'Yes, but female told only during pregnancy']=0, Yes=3\n",
            "\n",
            "General Health\n",
            "Categorized General Health as: Poor:0, Fair:1, Good:2, Very Good:3, Excellent:4\n",
            "\n",
            "Checkup\n",
            "Checkup categories found:\n",
            " ['Within the past 2 years', 'Within the past year', '5 or more years ago', 'Within the past 5 years', 'Never']\n",
            "Categorized Checkup as: [Never', '5 or more years ago', 'Within the past 5 years']=0 ['Within the past 2 years', 'Within the past year']=1\n",
            "['Alcohol_Consumption', 'Fruit_Consumption', 'Green_Vegetables_Consumption', 'FriedPotato_Consumption', 'Height_(cm)', 'Weight_(kg)'] \n",
            "Scaled down above columns using StandardScaler\n"
          ]
        }
      ]
    },
    {
      "cell_type": "markdown",
      "source": [
        "<h1>1.\tSplit dataset with 8:2 ratio for train and test sets</h1>"
      ],
      "metadata": {
        "id": "GXpwKWg1E_Vn"
      }
    },
    {
      "cell_type": "code",
      "source": [
        "X = df.drop(columns=['Heart_Disease'])\n",
        "y = df['Heart_Disease']\n",
        "\n",
        "# Split data\n",
        "X_train, X_test, y_train, y_test = train_test_split(X, y, test_size=0.2, random_state=42)\n"
      ],
      "metadata": {
        "collapsed": true,
        "id": "3qn7Ipht8pbd"
      },
      "execution_count": 16,
      "outputs": []
    },
    {
      "cell_type": "markdown",
      "source": [
        "<h1>2.\tApply SVM, Random forest and Logistic regression for building model (use X_train, Y-train)<br>\n",
        "3.\tTest the models one by one on unseen data (X_test)<br>\n",
        "4.\tDisplay accuracy score, classification report and confusion matrix for each of models</h1>\n"
      ],
      "metadata": {
        "id": "gHhMKfNqFKkW"
      }
    },
    {
      "cell_type": "code",
      "source": [
        "# Initialize models\n",
        "models = {\n",
        "    'SVM' : LinearSVC(C=1.0,max_iter=10000,dual=True),\n",
        "    'RandomForest': RandomForestClassifier(random_state=42),\n",
        "    'LogisticRegression': LogisticRegression(max_iter=2000)\n",
        "}\n",
        "results = {}\n",
        "\n",
        "# Train and evaluate each model\n",
        "for name, model in models.items():\n",
        "    model.fit(X_train, y_train)\n",
        "    y_pred = model.predict(X_test)\n",
        "\n",
        "    acc = accuracy_score(y_test, y_pred)\n",
        "    print(f\"\\n{name} Accuracy: {acc:.4f}\")\n",
        "    print(f\"\\n{name} Classification Report:\\n{classification_report(y_test, y_pred)}\")\n",
        "    print(f\"\\n{name} Confusion Matrix:\")\n",
        "    print(confusion_matrix(y_test, y_pred))\n",
        "\n",
        "    results[name] = acc"
      ],
      "metadata": {
        "colab": {
          "base_uri": "https://localhost:8080/"
        },
        "id": "omY2zQUz8-cY",
        "outputId": "d4323eac-37cf-4da8-cd70-b60fed4b7009"
      },
      "execution_count": 17,
      "outputs": [
        {
          "output_type": "stream",
          "name": "stdout",
          "text": [
            "\n",
            "SVM Accuracy: 0.9191\n",
            "\n",
            "SVM Classification Report:\n",
            "              precision    recall  f1-score   support\n",
            "\n",
            "           0       0.92      1.00      0.96     56774\n",
            "           1       0.50      0.00      0.00      4997\n",
            "\n",
            "    accuracy                           0.92     61771\n",
            "   macro avg       0.71      0.50      0.48     61771\n",
            "weighted avg       0.89      0.92      0.88     61771\n",
            "\n",
            "\n",
            "SVM Confusion Matrix:\n",
            "[[56773     1]\n",
            " [ 4996     1]]\n",
            "\n",
            "RandomForest Accuracy: 0.9177\n",
            "\n",
            "RandomForest Classification Report:\n",
            "              precision    recall  f1-score   support\n",
            "\n",
            "           0       0.92      0.99      0.96     56774\n",
            "           1       0.42      0.05      0.08      4997\n",
            "\n",
            "    accuracy                           0.92     61771\n",
            "   macro avg       0.67      0.52      0.52     61771\n",
            "weighted avg       0.88      0.92      0.89     61771\n",
            "\n",
            "\n",
            "RandomForest Confusion Matrix:\n",
            "[[56455   319]\n",
            " [ 4766   231]]\n",
            "\n",
            "LogisticRegression Accuracy: 0.9191\n",
            "\n",
            "LogisticRegression Classification Report:\n",
            "              precision    recall  f1-score   support\n",
            "\n",
            "           0       0.92      0.99      0.96     56774\n",
            "           1       0.50      0.07      0.12      4997\n",
            "\n",
            "    accuracy                           0.92     61771\n",
            "   macro avg       0.71      0.53      0.54     61771\n",
            "weighted avg       0.89      0.92      0.89     61771\n",
            "\n",
            "\n",
            "LogisticRegression Confusion Matrix:\n",
            "[[56438   336]\n",
            " [ 4663   334]]\n"
          ]
        }
      ]
    },
    {
      "cell_type": "markdown",
      "source": [
        "<h1>5.\tPlot the comparison of the accuracies as a bar chart</h1>"
      ],
      "metadata": {
        "id": "FUuyPtHkFYoL"
      }
    },
    {
      "cell_type": "code",
      "source": [
        "a=list(results.keys())\n",
        "b=list(results.values())\n",
        "for i in range(len(b)): b[i]*=100\n",
        "plt.figure(figsize=(10,5))\n",
        "plt.bar(a,b,color=['r','g','b'])\n",
        "plt.xlabel('Models')\n",
        "plt.ylabel('Accuracy')\n",
        "plt.title('Accuracy Comparision of Models')\n",
        "plt.grid(True, axis='y')\n",
        "plt.show()"
      ],
      "metadata": {
        "colab": {
          "base_uri": "https://localhost:8080/",
          "height": 487
        },
        "id": "KoRnZ5SuIU7M",
        "outputId": "84a8e9d4-cdf5-4b73-83b8-31141a8bbae1"
      },
      "execution_count": 6,
      "outputs": [
        {
          "output_type": "display_data",
          "data": {
            "text/plain": [
              "<Figure size 1000x500 with 1 Axes>"
            ],
            "image/png": "[encoded data removed]"
          },
          "metadata": {}
        }
      ]
    },
    {
      "cell_type": "markdown",
      "source": [
        "<h1>6.\tApply randomised grid search to tune the hyper parameters</h1>"
      ],
      "metadata": {
        "id": "P_yZftESFkoc"
      }
    },
    {
      "cell_type": "code",
      "source": [
        "from sklearn.model_selection import RandomizedSearchCV\n",
        "from sklearn.metrics import accuracy_score, classification_report, confusion_matrix\n",
        "import numpy as np\n",
        "\n",
        "\n",
        "models = {\n",
        "    'SVM': {\n",
        "        'model': LinearSVC(max_iter=2000, dual=False, random_state=42),\n",
        "        'params': {\n",
        "            'C': [0.1, 1, 10],\n",
        "            'loss': ['squared_hinge'],\n",
        "            'penalty': ['l2']\n",
        "        },\n",
        "        'n_iter': 8\n",
        "    },\n",
        "    'RandomForest': {\n",
        "        'model': RandomForestClassifier(random_state=42, n_jobs=-1),\n",
        "        'params': {\n",
        "            'n_estimators': [50, 100, 150],\n",
        "            'max_depth': [5, 10, None],\n",
        "            'min_samples_split': [2, 5],\n",
        "            'min_samples_leaf': [1, 2],\n",
        "            'class_weight': [None, 'balanced']\n",
        "        },\n",
        "        'n_iter': 8\n",
        "    },\n",
        "    'LogisticRegression': {\n",
        "        'model': LogisticRegression(max_iter=500, random_state=42, n_jobs=-1),\n",
        "        'params': {\n",
        "            'C': [0.1, 1, 10],\n",
        "            'penalty': ['l2'],\n",
        "            'solver': ['lbfgs', 'liblinear']\n",
        "        },\n",
        "        'n_iter': 8\n",
        "    }\n",
        "}\n",
        "\n",
        "results = {}\n",
        "\n",
        "for name, config in models.items():\n",
        "    print(f\"\\n=== Training {name} ===\")\n",
        "\n",
        "\n",
        "    random_search = RandomizedSearchCV(\n",
        "        estimator=config['model'],\n",
        "        param_distributions=config['params'],\n",
        "        n_iter=config['n_iter'],\n",
        "        cv=3,  # Reduced CV folds\n",
        "        scoring='accuracy',\n",
        "        random_state=42,\n",
        "        n_jobs=-1,\n",
        "        verbose=1\n",
        "    )\n",
        "\n",
        "\n",
        "    random_search.fit(X_train, y_train)\n",
        "\n",
        "\n",
        "    best_model = random_search.best_estimator_\n",
        "    y_pred = best_model.predict(X_test)\n",
        "    acc = accuracy_score(y_test, y_pred)\n",
        "\n",
        "\n",
        "    results[name] = {\n",
        "        'accuracy': acc,\n",
        "        'best_params': random_search.best_params_,\n",
        "        'model': best_model\n",
        "    }\n",
        "\n",
        "    print(f\"\\nBest Parameters: {random_search.best_params_}\")\n",
        "    print(f\"Validation Accuracy: {acc:.4f}\")\n",
        "\n",
        "\n",
        "print(\"\\n=== Final Model Comparison ===\")\n",
        "best_model_name = max(results, key=lambda x: results[x]['accuracy'])\n",
        "for name, result in results.items():\n",
        "    print(f\"{name}: Accuracy = {result['accuracy']:.4f}\" +\n",
        "          (\" (Best)\" if name == best_model_name else \"\"))\n",
        "\n",
        "\n",
        "print(f\"\\n=== Best Model Detailed Report ({best_model_name}) ===\")\n",
        "print(\"\\nClassification Report:\")\n",
        "print(classification_report(y_test, results[best_model_name]['model'].predict(X_test)))\n",
        "print(\"\\nConfusion Matrix:\")\n",
        "print(confusion_matrix(y_test, results[best_model_name]['model'].predict(X_test)))"
      ],
      "metadata": {
        "colab": {
          "base_uri": "https://localhost:8080/"
        },
        "id": "6rRE2Wo8C1Bx",
        "outputId": "57bd85c6-feab-49b8-a5b4-38e551537a6c"
      },
      "execution_count": 12,
      "outputs": [
        {
          "output_type": "stream",
          "name": "stdout",
          "text": [
            "\n",
            "=== Training SVM ===\n",
            "Fitting 3 folds for each of 3 candidates, totalling 9 fits\n"
          ]
        },
        {
          "output_type": "stream",
          "name": "stderr",
          "text": [
            "/usr/local/lib/python3.11/dist-packages/sklearn/model_selection/_search.py:317: UserWarning: The total space of parameters 3 is smaller than n_iter=8. Running 3 iterations. For exhaustive searches, use GridSearchCV.\n",
            "  warnings.warn(\n"
          ]
        },
        {
          "output_type": "stream",
          "name": "stdout",
          "text": [
            "\n",
            "Best Parameters: {'penalty': 'l2', 'loss': 'squared_hinge', 'C': 0.1}\n",
            "Validation Accuracy: 0.9191\n",
            "\n",
            "=== Training RandomForest ===\n",
            "Fitting 3 folds for each of 8 candidates, totalling 24 fits\n"
          ]
        },
        {
          "output_type": "stream",
          "name": "stderr",
          "text": [
            "/usr/local/lib/python3.11/dist-packages/joblib/externals/loky/process_executor.py:752: UserWarning: A worker stopped while some jobs were given to the executor. This can be caused by a too short worker timeout or by a memory leak.\n",
            "  warnings.warn(\n"
          ]
        },
        {
          "output_type": "stream",
          "name": "stdout",
          "text": [
            "\n",
            "Best Parameters: {'n_estimators': 50, 'min_samples_split': 2, 'min_samples_leaf': 2, 'max_depth': 10, 'class_weight': None}\n",
            "Validation Accuracy: 0.9193\n",
            "\n",
            "=== Training LogisticRegression ===\n",
            "Fitting 3 folds for each of 6 candidates, totalling 18 fits\n"
          ]
        },
        {
          "output_type": "stream",
          "name": "stderr",
          "text": [
            "/usr/local/lib/python3.11/dist-packages/sklearn/model_selection/_search.py:317: UserWarning: The total space of parameters 6 is smaller than n_iter=8. Running 6 iterations. For exhaustive searches, use GridSearchCV.\n",
            "  warnings.warn(\n",
            "/usr/local/lib/python3.11/dist-packages/sklearn/linear_model/_logistic.py:1271: UserWarning: 'n_jobs' > 1 does not have any effect when 'solver' is set to 'liblinear'. Got 'n_jobs' = 2.\n",
            "  warnings.warn(\n"
          ]
        },
        {
          "output_type": "stream",
          "name": "stdout",
          "text": [
            "\n",
            "Best Parameters: {'solver': 'liblinear', 'penalty': 'l2', 'C': 0.1}\n",
            "Validation Accuracy: 0.9192\n",
            "\n",
            "=== Final Model Comparison ===\n",
            "SVM: Accuracy = 0.9191\n",
            "RandomForest: Accuracy = 0.9193 (Best)\n",
            "LogisticRegression: Accuracy = 0.9192\n",
            "\n",
            "=== Best Model Detailed Report (RandomForest) ===\n",
            "\n",
            "Classification Report:\n",
            "              precision    recall  f1-score   support\n",
            "\n",
            "           0       0.92      1.00      0.96     56774\n",
            "           1       0.59      0.01      0.02      4997\n",
            "\n",
            "    accuracy                           0.92     61771\n",
            "   macro avg       0.75      0.50      0.49     61771\n",
            "weighted avg       0.89      0.92      0.88     61771\n",
            "\n",
            "\n",
            "Confusion Matrix:\n",
            "[[56745    29]\n",
            " [ 4956    41]]\n"
          ]
        }
      ]
    },
    {
      "cell_type": "markdown",
      "source": [
        "<h1>7.\tPredict and display the health status for a single input from the dataset resembling the working of an AI system</h1>"
      ],
      "metadata": {
        "id": "0ecn6Wg5FyTc"
      }
    },
    {
      "cell_type": "code",
      "source": [
        "import random\n",
        "import pandas as pd\n",
        "\n",
        "random_index = random.choice(X_test.index)\n",
        "random_sample = X_test.loc[[random_index]]\n",
        "\n",
        "actual_label = \"Has Heart Disease\" if y_test.loc[random_index] == 1 else \"No Heart Disease\"\n",
        "\n",
        "prediction = models[\"RandomForest\"].predict(random_sample)[0]\n",
        "prediction_label = \"High Risk of Heart Disease\" if prediction == 1 else \"Low Risk\"\n",
        "print(random_sample,\"\\nResult:\",prediction_label)"
      ],
      "metadata": {
        "colab": {
          "base_uri": "https://localhost:8080/"
        },
        "id": "ocsFmozpEKmd",
        "outputId": "e37895de-4a6b-47d2-dd4b-584f149a65d0"
      },
      "execution_count": 27,
      "outputs": [
        {
          "output_type": "stream",
          "name": "stdout",
          "text": [
            "       General_Health  Checkup  ...  Green_Vegetables_Consumption  FriedPotato_Consumption\n",
            "46530               2        1  ...                     -0.476373                 -0.73362\n",
            "\n",
            "[1 rows x 18 columns] \n",
            "Result: Low Risk\n"
          ]
        }
      ]
    }
  ]
}